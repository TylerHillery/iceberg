{
 "cells": [
  {
   "cell_type": "code",
   "execution_count": 1,
   "metadata": {},
   "outputs": [],
   "source": [
    "!pip install -q pyjwt"
   ]
  },
  {
   "cell_type": "code",
   "execution_count": 2,
   "metadata": {},
   "outputs": [],
   "source": [
    "import jwt\n",
    "import requests\n",
    "from IPython.display import JSON\n",
    "\n",
    "CATALOG_URL = \"http://server:8181/catalog\"\n",
    "MANAGEMENT_URL = \"http://server:8181/management\"\n",
    "KEYCLOAK_TOKEN_URL = \"http://keycloak:8080/realms/iceberg/protocol/openid-connect/token\""
   ]
  },
  {
   "cell_type": "markdown",
   "metadata": {},
   "source": [
    "# Sign in"
   ]
  },
  {
   "cell_type": "code",
   "execution_count": 3,
   "metadata": {},
   "outputs": [
    {
     "data": {
      "application/json": {
       "acr": "1",
       "aud": [
        "lakekeeper",
        "account"
       ],
       "azp": "trino",
       "clientAddress": "192.168.97.11",
       "clientHost": "192.168.97.11",
       "client_id": "trino",
       "email_verified": false,
       "exp": 1748306643,
       "iat": 1748303043,
       "iss": "http://keycloak:8080/realms/iceberg",
       "jti": "34022527-c8d8-4fd3-ae7a-6ac1b3cbac64",
       "preferred_username": "service-account-trino",
       "realm_access": {
        "roles": [
         "offline_access",
         "uma_authorization",
         "default-roles-iceberg"
        ]
       },
       "resource_access": {
        "account": {
         "roles": [
          "manage-account",
          "manage-account-links",
          "view-profile"
         ]
        }
       },
       "scope": "email profile",
       "sub": "94eb1d88-7854-43a0-b517-a75f92c533a5",
       "typ": "Bearer"
      },
      "text/plain": [
       "<IPython.core.display.JSON object>"
      ]
     },
     "execution_count": 3,
     "metadata": {
      "application/json": {
       "expanded": false,
       "root": "root"
      }
     },
     "output_type": "execute_result"
    }
   ],
   "source": [
    "# Login to Keycloak\n",
    "CLIENT_ID = \"trino\"\n",
    "CLIENT_SECRET = \"AK48QgaKsqdEpP9PomRJw7l2T7qWGHdZ\"\n",
    "\n",
    "response = requests.post(\n",
    "    url=KEYCLOAK_TOKEN_URL,\n",
    "    data={\n",
    "        \"grant_type\": \"client_credentials\",\n",
    "        \"client_id\": CLIENT_ID,\n",
    "        \"client_secret\": CLIENT_SECRET,\n",
    "        \"scope\": \"lakekeeper\",\n",
    "    },\n",
    "    headers={\"Content-type\": \"application/x-www-form-urlencoded\"},\n",
    ")\n",
    "response.raise_for_status()\n",
    "access_token = response.json()[\"access_token\"]\n",
    "\n",
    "# Lets inspect the token we got to see that our application name is available:\n",
    "JSON(jwt.decode(access_token, options={\"verify_signature\": False}))"
   ]
  },
  {
   "cell_type": "markdown",
   "metadata": {},
   "source": [
    "# Creating a Warehouse"
   ]
  },
  {
   "cell_type": "code",
   "execution_count": 4,
   "metadata": {},
   "outputs": [
    {
     "data": {
      "application/json": {
       "warehouse-id": "561ca5e4-3a8b-11f0-a2e6-778868300a9a"
      },
      "text/plain": [
       "<IPython.core.display.JSON object>"
      ]
     },
     "execution_count": 4,
     "metadata": {
      "application/json": {
       "expanded": false,
       "root": "root"
      }
     },
     "output_type": "execute_result"
    }
   ],
   "source": [
    "response = requests.post(\n",
    "    url=f\"{MANAGEMENT_URL}/v1/warehouse\",\n",
    "    headers={\"Authorization\": f\"Bearer {access_token}\"},\n",
    "    json={\n",
    "        \"warehouse-name\": \"demo\",\n",
    "        \"storage-profile\": {\n",
    "            \"type\": \"s3\",\n",
    "            \"bucket\": \"examples\",\n",
    "            \"key-prefix\": \"initial-warehouse\",\n",
    "            \"endpoint\": \"http://minio:9000\",\n",
    "            \"region\": \"local-01\",\n",
    "            \"path-style-access\": True,\n",
    "            \"flavor\": \"minio\",\n",
    "            \"sts-enabled\": True,\n",
    "        },\n",
    "        \"storage-credential\": {\n",
    "            \"type\": \"s3\",\n",
    "            \"credential-type\": \"access-key\",\n",
    "            \"aws-access-key-id\": \"minio-root-user\",\n",
    "            \"aws-secret-access-key\": \"minio-root-password\",\n",
    "        },\n",
    "    },\n",
    ")\n",
    "response.raise_for_status()\n",
    "JSON(response.json())"
   ]
  },
  {
   "cell_type": "code",
   "execution_count": null,
   "metadata": {},
   "outputs": [],
   "source": []
  }
 ],
 "metadata": {
  "kernelspec": {
   "display_name": "Python 3 (ipykernel)",
   "language": "python",
   "name": "python3"
  },
  "language_info": {
   "codemirror_mode": {
    "name": "ipython",
    "version": 3
   },
   "file_extension": ".py",
   "mimetype": "text/x-python",
   "name": "python",
   "nbconvert_exporter": "python",
   "pygments_lexer": "ipython3",
   "version": "3.11.10"
  }
 },
 "nbformat": 4,
 "nbformat_minor": 4
}
