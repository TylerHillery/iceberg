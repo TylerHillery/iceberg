{
 "cells": [
  {
   "cell_type": "code",
   "execution_count": 1,
   "metadata": {},
   "outputs": [],
   "source": [
    "!pip install -q pyjwt"
   ]
  },
  {
   "cell_type": "code",
   "execution_count": 13,
   "metadata": {},
   "outputs": [],
   "source": [
    "import jwt\n",
    "import requests\n",
    "from IPython.display import JSON\n",
    "\n",
    "CATALOG_URL = \"http://server:8181/catalog\"\n",
    "MANAGEMENT_URL = \"http://server:8181/management\"\n",
    "KEYCLOAK_TOKEN_URL = \"http://keycloak:8080/realms/iceberg/protocol/openid-connect/token\""
   ]
  },
  {
   "cell_type": "markdown",
   "metadata": {},
   "source": [
    "# Bootstraping Lakekeeper\n",
    "This Notebook performs bootstrapping via python requests. It only works if the server hasn't previously bootstrapped using the UI!"
   ]
  },
  {
   "cell_type": "markdown",
   "metadata": {},
   "source": [
    "## 1. Sign in\n",
    "First, we need to obtain a token from our Identity Provider. In this example a `Keycloak` is running beside Lakekeeper. A few users have been pre-created in Keycloak for this example. We are now logging into Keycloak as the technical user (client) `trino`. If a human user bootstraps the catalog, we recommend to use the UI."
   ]
  },
  {
   "cell_type": "code",
   "execution_count": 14,
   "metadata": {},
   "outputs": [
    {
     "data": {
      "application/json": {
       "acr": "1",
       "aud": [
        "lakekeeper",
        "account"
       ],
       "azp": "trino",
       "clientAddress": "192.168.97.11",
       "clientHost": "192.168.97.11",
       "client_id": "trino",
       "email_verified": false,
       "exp": 1748307039,
       "iat": 1748303439,
       "iss": "http://keycloak:8080/realms/iceberg",
       "jti": "96def022-08d8-4696-b4b8-a2cd8ef85e6e",
       "preferred_username": "service-account-trino",
       "realm_access": {
        "roles": [
         "offline_access",
         "uma_authorization",
         "default-roles-iceberg"
        ]
       },
       "resource_access": {
        "account": {
         "roles": [
          "manage-account",
          "manage-account-links",
          "view-profile"
         ]
        }
       },
       "scope": "email profile",
       "sub": "94eb1d88-7854-43a0-b517-a75f92c533a5",
       "typ": "Bearer"
      },
      "text/plain": [
       "<IPython.core.display.JSON object>"
      ]
     },
     "execution_count": 14,
     "metadata": {
      "application/json": {
       "expanded": false,
       "root": "root"
      }
     },
     "output_type": "execute_result"
    }
   ],
   "source": [
    "# Login to Keycloak\n",
    "CLIENT_ID = \"trino\"\n",
    "CLIENT_SECRET = \"AK48QgaKsqdEpP9PomRJw7l2T7qWGHdZ\"\n",
    "\n",
    "response = requests.post(\n",
    "    url=KEYCLOAK_TOKEN_URL,\n",
    "    data={\n",
    "        \"grant_type\": \"client_credentials\",\n",
    "        \"client_id\": CLIENT_ID,\n",
    "        \"client_secret\": CLIENT_SECRET,\n",
    "        \"scope\": \"lakekeeper\",\n",
    "    },\n",
    "    headers={\"Content-type\": \"application/x-www-form-urlencoded\"},\n",
    ")\n",
    "response.raise_for_status()\n",
    "access_token = response.json()[\"access_token\"]\n",
    "\n",
    "# Lets inspect the token we got to see that our application name is available:\n",
    "JSON(jwt.decode(access_token, options={\"verify_signature\": False}))"
   ]
  },
  {
   "cell_type": "markdown",
   "metadata": {},
   "source": [
    "Now that we have the access token, we can query the server info Endpoint. \n",
    "On first launch it will show bootstrapped `'bootstrapped': false`.\n",
    "The full API documentation is available as part of the Repository and hosted by Lakekeeper: http://localhost:8181/swagger-ui/#/"
   ]
  },
  {
   "cell_type": "code",
   "execution_count": 15,
   "metadata": {},
   "outputs": [
    {
     "data": {
      "application/json": {
       "authz-backend": "openfga",
       "aws-system-identities-enabled": false,
       "azure-system-identities-enabled": false,
       "bootstrapped": true,
       "default-project-id": "00000000-0000-0000-0000-000000000000",
       "gcp-system-identities-enabled": false,
       "server-id": "00000000-0000-0000-0000-000000000000",
       "version": "0.8.5"
      },
      "text/plain": [
       "<IPython.core.display.JSON object>"
      ]
     },
     "execution_count": 15,
     "metadata": {
      "application/json": {
       "expanded": false,
       "root": "root"
      }
     },
     "output_type": "execute_result"
    }
   ],
   "source": [
    "response = requests.get(\n",
    "    url=f\"{MANAGEMENT_URL}/v1/info\",\n",
    "    headers={\"Authorization\": f\"Bearer {access_token}\"},\n",
    ")\n",
    "response.raise_for_status()\n",
    "JSON(response.json())\n",
    "# On first launch it shows \"bootstrapped\": False"
   ]
  },
  {
   "cell_type": "markdown",
   "metadata": {},
   "source": [
    "## 2. Bootstrap"
   ]
  },
  {
   "cell_type": "code",
   "execution_count": 17,
   "metadata": {},
   "outputs": [
    {
     "ename": "HTTPError",
     "evalue": "400 Client Error: Bad Request for url: http://server:8181/management/v1/bootstrap",
     "output_type": "error",
     "traceback": [
      "\u001b[0;31m---------------------------------------------------------------------------\u001b[0m",
      "\u001b[0;31mHTTPError\u001b[0m                                 Traceback (most recent call last)",
      "Cell \u001b[0;32mIn[17], line 10\u001b[0m\n\u001b[1;32m      1\u001b[0m response \u001b[38;5;241m=\u001b[39m requests\u001b[38;5;241m.\u001b[39mpost(\n\u001b[1;32m      2\u001b[0m     url\u001b[38;5;241m=\u001b[39m\u001b[38;5;124mf\u001b[39m\u001b[38;5;124m\"\u001b[39m\u001b[38;5;132;01m{\u001b[39;00mMANAGEMENT_URL\u001b[38;5;132;01m}\u001b[39;00m\u001b[38;5;124m/v1/bootstrap\u001b[39m\u001b[38;5;124m\"\u001b[39m,\n\u001b[1;32m      3\u001b[0m     headers\u001b[38;5;241m=\u001b[39m{\n\u001b[0;32m   (...)\u001b[0m\n\u001b[1;32m      8\u001b[0m     },\n\u001b[1;32m      9\u001b[0m )\n\u001b[0;32m---> 10\u001b[0m \u001b[43mresponse\u001b[49m\u001b[38;5;241;43m.\u001b[39;49m\u001b[43mraise_for_status\u001b[49m\u001b[43m(\u001b[49m\u001b[43m)\u001b[49m\n",
      "File \u001b[0;32m/opt/conda/lib/python3.11/site-packages/requests/models.py:1024\u001b[0m, in \u001b[0;36mResponse.raise_for_status\u001b[0;34m(self)\u001b[0m\n\u001b[1;32m   1019\u001b[0m     http_error_msg \u001b[38;5;241m=\u001b[39m (\n\u001b[1;32m   1020\u001b[0m         \u001b[38;5;124mf\u001b[39m\u001b[38;5;124m\"\u001b[39m\u001b[38;5;132;01m{\u001b[39;00m\u001b[38;5;28mself\u001b[39m\u001b[38;5;241m.\u001b[39mstatus_code\u001b[38;5;132;01m}\u001b[39;00m\u001b[38;5;124m Server Error: \u001b[39m\u001b[38;5;132;01m{\u001b[39;00mreason\u001b[38;5;132;01m}\u001b[39;00m\u001b[38;5;124m for url: \u001b[39m\u001b[38;5;132;01m{\u001b[39;00m\u001b[38;5;28mself\u001b[39m\u001b[38;5;241m.\u001b[39murl\u001b[38;5;132;01m}\u001b[39;00m\u001b[38;5;124m\"\u001b[39m\n\u001b[1;32m   1021\u001b[0m     )\n\u001b[1;32m   1023\u001b[0m \u001b[38;5;28;01mif\u001b[39;00m http_error_msg:\n\u001b[0;32m-> 1024\u001b[0m     \u001b[38;5;28;01mraise\u001b[39;00m HTTPError(http_error_msg, response\u001b[38;5;241m=\u001b[39m\u001b[38;5;28mself\u001b[39m)\n",
      "\u001b[0;31mHTTPError\u001b[0m: 400 Client Error: Bad Request for url: http://server:8181/management/v1/bootstrap"
     ]
    }
   ],
   "source": [
    "response = requests.post(\n",
    "    url=f\"{MANAGEMENT_URL}/v1/bootstrap\",\n",
    "    headers={\"Authorization\": f\"Bearer {access_token}\"},\n",
    "    json={\n",
    "        \"accept-terms-of-use\": True,\n",
    "    },\n",
    ")\n",
    "response.raise_for_status()"
   ]
  },
  {
   "cell_type": "markdown",
   "metadata": {},
   "source": [
    "## 3. Grant access to UI User\n",
    "In keycloak the user \"Peter\" exists which we are now also assigning the \"admin\" role.\n",
    "\n",
    "Before executing the next cell, login to the UI at http://localhost:8181 using:\n",
    "* Username: `peter`\n",
    "* Password: `iceberg`\n",
    "\n",
    "You should see \"You don't have any projects assignments\".\n",
    "\n",
    "Lets assign permissions to peter:"
   ]
  },
  {
   "cell_type": "code",
   "execution_count": 18,
   "metadata": {},
   "outputs": [
    {
     "data": {
      "application/json": {
       "next-page-token": "MSYxNzQ4MzAyOTkzOTEwNjk5Jm9pZGN-Y2ZiNTViZjYtZmNiYi00YTFlLWJmZWMtMzBjNjY0OWI1MmY4",
       "users": [
        {
         "created-at": "2025-05-26T23:42:51.515415Z",
         "email": null,
         "id": "oidc~94eb1d88-7854-43a0-b517-a75f92c533a5",
         "last-updated-with": "update-endpoint",
         "name": "service-account-trino",
         "updated-at": null,
         "user-type": "application"
        },
        {
         "created-at": "2025-05-26T23:43:13.910699Z",
         "email": "peter@example.com",
         "id": "oidc~cfb55bf6-fcbb-4a1e-bfec-30c6649b52f8",
         "last-updated-with": "create-endpoint",
         "name": "Peter Cold",
         "updated-at": null,
         "user-type": "human"
        }
       ]
      },
      "text/plain": [
       "<IPython.core.display.JSON object>"
      ]
     },
     "execution_count": 18,
     "metadata": {
      "application/json": {
       "expanded": false,
       "root": "root"
      }
     },
     "output_type": "execute_result"
    }
   ],
   "source": [
    "# Users will show up in the /v1/user endpoint after the first login via the UI\n",
    "# or the first call to the /catalog/v1/config endpoint.\n",
    "response = requests.get(\n",
    "    url=f\"{MANAGEMENT_URL}/v1/user\",\n",
    "    headers={\"Authorization\": f\"Bearer {access_token}\"},\n",
    ")\n",
    "response.raise_for_status()\n",
    "JSON(response.json())"
   ]
  },
  {
   "cell_type": "code",
   "execution_count": 19,
   "metadata": {},
   "outputs": [
    {
     "ename": "HTTPError",
     "evalue": "409 Client Error: Conflict for url: http://server:8181/management/v1/permissions/server/assignments",
     "output_type": "error",
     "traceback": [
      "\u001b[0;31m---------------------------------------------------------------------------\u001b[0m",
      "\u001b[0;31mHTTPError\u001b[0m                                 Traceback (most recent call last)",
      "Cell \u001b[0;32mIn[19], line 13\u001b[0m\n\u001b[1;32m      1\u001b[0m response \u001b[38;5;241m=\u001b[39m requests\u001b[38;5;241m.\u001b[39mpost(\n\u001b[1;32m      2\u001b[0m     url\u001b[38;5;241m=\u001b[39m\u001b[38;5;124mf\u001b[39m\u001b[38;5;124m\"\u001b[39m\u001b[38;5;132;01m{\u001b[39;00mMANAGEMENT_URL\u001b[38;5;132;01m}\u001b[39;00m\u001b[38;5;124m/v1/permissions/server/assignments\u001b[39m\u001b[38;5;124m\"\u001b[39m,\n\u001b[1;32m      3\u001b[0m     headers\u001b[38;5;241m=\u001b[39m{\u001b[38;5;124m\"\u001b[39m\u001b[38;5;124mAuthorization\u001b[39m\u001b[38;5;124m\"\u001b[39m: \u001b[38;5;124mf\u001b[39m\u001b[38;5;124m\"\u001b[39m\u001b[38;5;124mBearer \u001b[39m\u001b[38;5;132;01m{\u001b[39;00maccess_token\u001b[38;5;132;01m}\u001b[39;00m\u001b[38;5;124m\"\u001b[39m},\n\u001b[0;32m   (...)\u001b[0m\n\u001b[1;32m     11\u001b[0m     }\n\u001b[1;32m     12\u001b[0m )\n\u001b[0;32m---> 13\u001b[0m \u001b[43mresponse\u001b[49m\u001b[38;5;241;43m.\u001b[39;49m\u001b[43mraise_for_status\u001b[49m\u001b[43m(\u001b[49m\u001b[43m)\u001b[49m\n\u001b[1;32m     15\u001b[0m response \u001b[38;5;241m=\u001b[39m requests\u001b[38;5;241m.\u001b[39mpost(\n\u001b[1;32m     16\u001b[0m     url\u001b[38;5;241m=\u001b[39m\u001b[38;5;124mf\u001b[39m\u001b[38;5;124m\"\u001b[39m\u001b[38;5;132;01m{\u001b[39;00mMANAGEMENT_URL\u001b[38;5;132;01m}\u001b[39;00m\u001b[38;5;124m/v1/permissions/project/assignments\u001b[39m\u001b[38;5;124m\"\u001b[39m,\n\u001b[1;32m     17\u001b[0m     headers\u001b[38;5;241m=\u001b[39m{\u001b[38;5;124m\"\u001b[39m\u001b[38;5;124mAuthorization\u001b[39m\u001b[38;5;124m\"\u001b[39m: \u001b[38;5;124mf\u001b[39m\u001b[38;5;124m\"\u001b[39m\u001b[38;5;124mBearer \u001b[39m\u001b[38;5;132;01m{\u001b[39;00maccess_token\u001b[38;5;132;01m}\u001b[39;00m\u001b[38;5;124m\"\u001b[39m},\n\u001b[0;32m   (...)\u001b[0m\n\u001b[1;32m     25\u001b[0m     }\n\u001b[1;32m     26\u001b[0m )\n\u001b[1;32m     27\u001b[0m response\u001b[38;5;241m.\u001b[39mraise_for_status()\n",
      "File \u001b[0;32m/opt/conda/lib/python3.11/site-packages/requests/models.py:1024\u001b[0m, in \u001b[0;36mResponse.raise_for_status\u001b[0;34m(self)\u001b[0m\n\u001b[1;32m   1019\u001b[0m     http_error_msg \u001b[38;5;241m=\u001b[39m (\n\u001b[1;32m   1020\u001b[0m         \u001b[38;5;124mf\u001b[39m\u001b[38;5;124m\"\u001b[39m\u001b[38;5;132;01m{\u001b[39;00m\u001b[38;5;28mself\u001b[39m\u001b[38;5;241m.\u001b[39mstatus_code\u001b[38;5;132;01m}\u001b[39;00m\u001b[38;5;124m Server Error: \u001b[39m\u001b[38;5;132;01m{\u001b[39;00mreason\u001b[38;5;132;01m}\u001b[39;00m\u001b[38;5;124m for url: \u001b[39m\u001b[38;5;132;01m{\u001b[39;00m\u001b[38;5;28mself\u001b[39m\u001b[38;5;241m.\u001b[39murl\u001b[38;5;132;01m}\u001b[39;00m\u001b[38;5;124m\"\u001b[39m\n\u001b[1;32m   1021\u001b[0m     )\n\u001b[1;32m   1023\u001b[0m \u001b[38;5;28;01mif\u001b[39;00m http_error_msg:\n\u001b[0;32m-> 1024\u001b[0m     \u001b[38;5;28;01mraise\u001b[39;00m HTTPError(http_error_msg, response\u001b[38;5;241m=\u001b[39m\u001b[38;5;28mself\u001b[39m)\n",
      "\u001b[0;31mHTTPError\u001b[0m: 409 Client Error: Conflict for url: http://server:8181/management/v1/permissions/server/assignments"
     ]
    }
   ],
   "source": [
    "response = requests.post(\n",
    "    url=f\"{MANAGEMENT_URL}/v1/permissions/server/assignments\",\n",
    "    headers={\"Authorization\": f\"Bearer {access_token}\"},\n",
    "    json={\n",
    "        \"writes\": [\n",
    "            {\"type\": \"admin\", \"user\": \"oidc~cfb55bf6-fcbb-4a1e-bfec-30c6649b52f8\"}\n",
    "        ]\n",
    "    },\n",
    ")\n",
    "response.raise_for_status()\n",
    "\n",
    "response = requests.post(\n",
    "    url=f\"{MANAGEMENT_URL}/v1/permissions/project/assignments\",\n",
    "    headers={\"Authorization\": f\"Bearer {access_token}\"},\n",
    "    json={\n",
    "        \"writes\": [\n",
    "            {\n",
    "                \"type\": \"project_admin\",\n",
    "                \"user\": \"oidc~cfb55bf6-fcbb-4a1e-bfec-30c6649b52f8\",\n",
    "            }\n",
    "        ]\n",
    "    },\n",
    ")\n",
    "response.raise_for_status()"
   ]
  },
  {
   "cell_type": "markdown",
   "metadata": {},
   "source": [
    "You can now refresh the UI page and should see the default Lakehouse."
   ]
  },
  {
   "cell_type": "code",
   "execution_count": 20,
   "metadata": {},
   "outputs": [
    {
     "data": {
      "application/json": {
       "authz-backend": "openfga",
       "aws-system-identities-enabled": false,
       "azure-system-identities-enabled": false,
       "bootstrapped": true,
       "default-project-id": "00000000-0000-0000-0000-000000000000",
       "gcp-system-identities-enabled": false,
       "server-id": "00000000-0000-0000-0000-000000000000",
       "version": "0.8.5"
      },
      "text/plain": [
       "<IPython.core.display.JSON object>"
      ]
     },
     "execution_count": 20,
     "metadata": {
      "application/json": {
       "expanded": false,
       "root": "root"
      }
     },
     "output_type": "execute_result"
    }
   ],
   "source": [
    "# The server is now bootstrapped:\n",
    "response = requests.get(\n",
    "    url=f\"{MANAGEMENT_URL}/v1/info\",\n",
    "    headers={\"Authorization\": f\"Bearer {access_token}\"},\n",
    ")\n",
    "response.raise_for_status()\n",
    "JSON(response.json())"
   ]
  },
  {
   "cell_type": "code",
   "execution_count": 9,
   "metadata": {},
   "outputs": [
    {
     "data": {
      "application/json": {
       "next-page-token": "MSYxNzQ4MzAyOTkzOTEwNjk5Jm9pZGN-Y2ZiNTViZjYtZmNiYi00YTFlLWJmZWMtMzBjNjY0OWI1MmY4",
       "users": [
        {
         "created-at": "2025-05-26T23:42:51.515415Z",
         "email": null,
         "id": "oidc~94eb1d88-7854-43a0-b517-a75f92c533a5",
         "last-updated-with": "update-endpoint",
         "name": "service-account-trino",
         "updated-at": null,
         "user-type": "application"
        },
        {
         "created-at": "2025-05-26T23:43:13.910699Z",
         "email": "peter@example.com",
         "id": "oidc~cfb55bf6-fcbb-4a1e-bfec-30c6649b52f8",
         "last-updated-with": "create-endpoint",
         "name": "Peter Cold",
         "updated-at": null,
         "user-type": "human"
        }
       ]
      },
      "text/plain": [
       "<IPython.core.display.JSON object>"
      ]
     },
     "execution_count": 9,
     "metadata": {
      "application/json": {
       "expanded": false,
       "root": "root"
      }
     },
     "output_type": "execute_result"
    }
   ],
   "source": [
    "# An initial user was created\n",
    "response = requests.get(\n",
    "    url=f\"{MANAGEMENT_URL}/v1/user\",\n",
    "    headers={\"Authorization\": f\"Bearer {access_token}\"},\n",
    ")\n",
    "response.raise_for_status()\n",
    "JSON(response.json())"
   ]
  },
  {
   "cell_type": "code",
   "execution_count": 21,
   "metadata": {},
   "outputs": [
    {
     "data": {
      "application/json": {
       "assignments": [
        {
         "type": "admin",
         "user": "oidc~94eb1d88-7854-43a0-b517-a75f92c533a5"
        },
        {
         "type": "admin",
         "user": "oidc~cfb55bf6-fcbb-4a1e-bfec-30c6649b52f8"
        }
       ]
      },
      "text/plain": [
       "<IPython.core.display.JSON object>"
      ]
     },
     "execution_count": 21,
     "metadata": {
      "application/json": {
       "expanded": false,
       "root": "root"
      }
     },
     "output_type": "execute_result"
    }
   ],
   "source": [
    "# The \"admin\" role has been assigned:\n",
    "response = requests.get(\n",
    "    url=f\"{MANAGEMENT_URL}/v1/permissions/server/assignments\",\n",
    "    headers={\"Authorization\": f\"Bearer {access_token}\"},\n",
    ")\n",
    "response.raise_for_status()\n",
    "user_id = response.json()[\"assignments\"][0][\"user\"]\n",
    "JSON(response.json())"
   ]
  },
  {
   "cell_type": "code",
   "execution_count": 22,
   "metadata": {},
   "outputs": [
    {
     "data": {
      "application/json": {
       "allowed-actions": [
        "create_project",
        "update_users",
        "delete_users",
        "list_users",
        "grant_admin",
        "provision_users",
        "read_assignments"
       ]
      },
      "text/plain": [
       "<IPython.core.display.JSON object>"
      ]
     },
     "execution_count": 22,
     "metadata": {
      "application/json": {
       "expanded": false,
       "root": "root"
      }
     },
     "output_type": "execute_result"
    }
   ],
   "source": [
    "# This user is the global admin, which has all access rights to the server:\n",
    "response = requests.get(\n",
    "    url=f\"{MANAGEMENT_URL}/v1/permissions/server/access\",\n",
    "    headers={\"Authorization\": f\"Bearer {access_token}\"},\n",
    ")\n",
    "response.raise_for_status()\n",
    "JSON(response.json())"
   ]
  },
  {
   "cell_type": "code",
   "execution_count": 23,
   "metadata": {},
   "outputs": [
    {
     "data": {
      "application/json": {
       "created-at": "2025-05-26T23:42:51.515415Z",
       "email": null,
       "id": "oidc~94eb1d88-7854-43a0-b517-a75f92c533a5",
       "last-updated-with": "update-endpoint",
       "name": "service-account-trino",
       "updated-at": null,
       "user-type": "application"
      },
      "text/plain": [
       "<IPython.core.display.JSON object>"
      ]
     },
     "execution_count": 23,
     "metadata": {
      "application/json": {
       "expanded": false,
       "root": "root"
      }
     },
     "output_type": "execute_result"
    }
   ],
   "source": [
    "# Lets see who this user is:\n",
    "response = requests.get(\n",
    "    url=f\"{MANAGEMENT_URL}/v1/user/{user_id}\",\n",
    "    headers={\"Authorization\": f\"Bearer {access_token}\"},\n",
    ")\n",
    "response.raise_for_status()\n",
    "JSON(response.json())"
   ]
  },
  {
   "cell_type": "code",
   "execution_count": null,
   "metadata": {},
   "outputs": [],
   "source": []
  }
 ],
 "metadata": {
  "kernelspec": {
   "display_name": "Python 3 (ipykernel)",
   "language": "python",
   "name": "python3"
  },
  "language_info": {
   "codemirror_mode": {
    "name": "ipython",
    "version": 3
   },
   "file_extension": ".py",
   "mimetype": "text/x-python",
   "name": "python",
   "nbconvert_exporter": "python",
   "pygments_lexer": "ipython3",
   "version": "3.11.10"
  }
 },
 "nbformat": 4,
 "nbformat_minor": 4
}
