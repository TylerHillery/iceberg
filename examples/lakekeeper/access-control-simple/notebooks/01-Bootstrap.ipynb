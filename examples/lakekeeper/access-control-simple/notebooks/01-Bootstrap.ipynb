{
 "cells": [
  {
   "cell_type": "code",
   "execution_count": 1,
   "metadata": {},
   "outputs": [],
   "source": [
    "!pip install -q pyjwt"
   ]
  },
  {
   "cell_type": "code",
   "execution_count": 1,
   "metadata": {},
   "outputs": [],
   "source": [
    "import jwt\n",
    "import requests\n",
    "from IPython.display import JSON\n",
    "\n",
    "CATALOG_URL = \"http://server:8181/catalog\"\n",
    "MANAGEMENT_URL = \"http://server:8181/management\"\n",
    "KEYCLOAK_TOKEN_URL = \"http://keycloak:8080/realms/iceberg/protocol/openid-connect/token\""
   ]
  },
  {
   "cell_type": "markdown",
   "metadata": {},
   "source": [
    "# Bootstraping Lakekeeper\n",
    "Initially, Lakekeeper needs to be bootstrapped.\n",
    "During bootstrapping the initial `admin` is set. Bootstrapping can only be performed once. The first user calling the bootstrap endpoint, will become the `admin`.\n",
    "\n",
    "This Notebook performs bootstrapping via python requests. It only works if the server hasn't previously bootstrapped using the UI!"
   ]
  },
  {
   "cell_type": "markdown",
   "metadata": {},
   "source": [
    "## 1. Sign in\n",
    "First, we need to obtain a token from our Identity Provider. In this example a `Keycloak` is running as a pod beside Lakekeeper. A few users have been pre-created in Keycloak for this example. We are now logging into Keycloak as the technical user (client) `spark`. If a human user bootstraps the catalog, we recommend to use the UI.\n",
    "\n",
    "Keycloak can be accessed at http://localhost:30080 in this example. Use `admin` as username and password. Then select the `iceberg` realm on the top left corner."
   ]
  },
  {
   "cell_type": "code",
   "execution_count": 2,
   "metadata": {},
   "outputs": [
    {
     "data": {
      "application/json": {
       "acr": "1",
       "allowed-origins": [
        "/*"
       ],
       "aud": [
        "lakekeeper",
        "account"
       ],
       "azp": "spark",
       "clientAddress": "192.168.97.10",
       "clientHost": "192.168.97.10",
       "client_id": "spark",
       "email_verified": false,
       "exp": 1748309540,
       "iat": 1748305940,
       "iss": "http://keycloak:8080/realms/iceberg",
       "jti": "dab1b04c-e34d-4656-aa32-c47317a43267",
       "preferred_username": "service-account-spark",
       "realm_access": {
        "roles": [
         "offline_access",
         "uma_authorization",
         "default-roles-iceberg"
        ]
       },
       "resource_access": {
        "account": {
         "roles": [
          "manage-account",
          "manage-account-links",
          "view-profile"
         ]
        }
       },
       "scope": "email profile",
       "sub": "9410d0bf-4487-4177-a34f-af364cac0a59",
       "typ": "Bearer"
      },
      "text/plain": [
       "<IPython.core.display.JSON object>"
      ]
     },
     "execution_count": 2,
     "metadata": {
      "application/json": {
       "expanded": false,
       "root": "root"
      }
     },
     "output_type": "execute_result"
    }
   ],
   "source": [
    "# Login to Keycloak\n",
    "CLIENT_ID = \"spark\"\n",
    "CLIENT_SECRET = \"2OR3eRvYfSZzzZ16MlPd95jhLnOaLM52\"\n",
    "\n",
    "response = requests.post(\n",
    "    url=KEYCLOAK_TOKEN_URL,\n",
    "    data={\n",
    "        \"grant_type\": \"client_credentials\",\n",
    "        \"client_id\": CLIENT_ID,\n",
    "        \"client_secret\": CLIENT_SECRET,\n",
    "        \"scope\": \"lakekeeper\",\n",
    "    },\n",
    "    headers={\"Content-type\": \"application/x-www-form-urlencoded\"},\n",
    ")\n",
    "response.raise_for_status()\n",
    "access_token = response.json()[\"access_token\"]\n",
    "\n",
    "# Lets inspect the token we got to see that our application name is available:\n",
    "JSON(jwt.decode(access_token, options={\"verify_signature\": False}))"
   ]
  },
  {
   "cell_type": "markdown",
   "metadata": {},
   "source": [
    "Now that we have the access token, we can query the server info Endpoint. \n",
    "On first launch it will show bootstrapped `'bootstrapped': false`.\n",
    "The full API documentation is available as part of the Repository and hosted by Lakekeeper: http://localhost:8181/swagger-ui/#/"
   ]
  },
  {
   "cell_type": "code",
   "execution_count": 3,
   "metadata": {},
   "outputs": [
    {
     "data": {
      "application/json": {
       "authz-backend": "openfga",
       "aws-system-identities-enabled": false,
       "azure-system-identities-enabled": false,
       "bootstrapped": false,
       "default-project-id": "00000000-0000-0000-0000-000000000000",
       "gcp-system-identities-enabled": false,
       "server-id": "00000000-0000-0000-0000-000000000000",
       "version": "0.8.5"
      },
      "text/plain": [
       "<IPython.core.display.JSON object>"
      ]
     },
     "execution_count": 3,
     "metadata": {
      "application/json": {
       "expanded": false,
       "root": "root"
      }
     },
     "output_type": "execute_result"
    }
   ],
   "source": [
    "response = requests.get(\n",
    "    url=f\"{MANAGEMENT_URL}/v1/info\",\n",
    "    headers={\"Authorization\": f\"Bearer {access_token}\"},\n",
    ")\n",
    "response.raise_for_status()\n",
    "JSON(response.json())\n",
    "# On first launch it shows \"bootstrapped\": False"
   ]
  },
  {
   "cell_type": "markdown",
   "metadata": {},
   "source": [
    "## 2. Bootstrap"
   ]
  },
  {
   "cell_type": "code",
   "execution_count": 4,
   "metadata": {},
   "outputs": [],
   "source": [
    "response = requests.post(\n",
    "    url=f\"{MANAGEMENT_URL}/v1/bootstrap\",\n",
    "    headers={\"Authorization\": f\"Bearer {access_token}\"},\n",
    "    json={\n",
    "        \"accept-terms-of-use\": True,\n",
    "        # Optionally, we can override the name / type of the user:\n",
    "        # \"user-email\": \"user@example.com\",\n",
    "        # \"user-name\": \"Roald Amundsen\",\n",
    "        # \"user-type\": \"human\"\n",
    "    },\n",
    ")\n",
    "response.raise_for_status()"
   ]
  },
  {
   "cell_type": "markdown",
   "metadata": {},
   "source": [
    "## 3. Grant access to UI User\n",
    "In keycloak the user \"Peter\" exists which we are now also assigning the \"admin\" role.\n",
    "\n",
    "Before executing the next cell, login to the UI at http://localhost:8181 using:\n",
    "* Username: `peter`\n",
    "* Password: `iceberg`\n",
    "\n",
    "You should see \"You don't have any projects assignments\".\n",
    "\n",
    "Lets assign permissions to peter:"
   ]
  },
  {
   "cell_type": "code",
   "execution_count": 5,
   "metadata": {},
   "outputs": [
    {
     "data": {
      "application/json": {
       "next-page-token": "MSYxNzQ4MzA1OTU1MDcyOTczJm9pZGN-Y2ZiNTViZjYtZmNiYi00YTFlLWJmZWMtMzBjNjY0OWI1MmY4",
       "users": [
        {
         "created-at": "2025-05-27T00:32:23.851082Z",
         "email": null,
         "id": "oidc~9410d0bf-4487-4177-a34f-af364cac0a59",
         "last-updated-with": "update-endpoint",
         "name": "service-account-spark",
         "updated-at": null,
         "user-type": "application"
        },
        {
         "created-at": "2025-05-27T00:32:35.072973Z",
         "email": "peter@example.com",
         "id": "oidc~cfb55bf6-fcbb-4a1e-bfec-30c6649b52f8",
         "last-updated-with": "create-endpoint",
         "name": "Peter Cold",
         "updated-at": null,
         "user-type": "human"
        }
       ]
      },
      "text/plain": [
       "<IPython.core.display.JSON object>"
      ]
     },
     "execution_count": 5,
     "metadata": {
      "application/json": {
       "expanded": false,
       "root": "root"
      }
     },
     "output_type": "execute_result"
    }
   ],
   "source": [
    "# Users will show up in the /v1/user endpoint after the first login via the UI\n",
    "# or the first call to the /catalog/v1/config endpoint.\n",
    "response = requests.get(\n",
    "    url=f\"{MANAGEMENT_URL}/v1/user\",\n",
    "    headers={\"Authorization\": f\"Bearer {access_token}\"},\n",
    ")\n",
    "response.raise_for_status()\n",
    "JSON(response.json())"
   ]
  },
  {
   "cell_type": "code",
   "execution_count": 6,
   "metadata": {},
   "outputs": [],
   "source": [
    "response = requests.post(\n",
    "    url=f\"{MANAGEMENT_URL}/v1/permissions/server/assignments\",\n",
    "    headers={\"Authorization\": f\"Bearer {access_token}\"},\n",
    "    json={\n",
    "        \"writes\": [\n",
    "            {\"type\": \"admin\", \"user\": \"oidc~cfb55bf6-fcbb-4a1e-bfec-30c6649b52f8\"}\n",
    "        ]\n",
    "    },\n",
    ")\n",
    "response.raise_for_status()\n",
    "\n",
    "response = requests.post(\n",
    "    url=f\"{MANAGEMENT_URL}/v1/permissions/project/assignments\",\n",
    "    headers={\"Authorization\": f\"Bearer {access_token}\"},\n",
    "    json={\n",
    "        \"writes\": [\n",
    "            {\n",
    "                \"type\": \"project_admin\",\n",
    "                \"user\": \"oidc~cfb55bf6-fcbb-4a1e-bfec-30c6649b52f8\",\n",
    "            }\n",
    "        ]\n",
    "    },\n",
    ")\n",
    "response.raise_for_status()"
   ]
  },
  {
   "cell_type": "markdown",
   "metadata": {},
   "source": [
    "You can now refresh the UI page and should see the default Lakehouse."
   ]
  },
  {
   "cell_type": "markdown",
   "metadata": {},
   "source": [
    "### 3.1 Grant Access to trino & starrocks User"
   ]
  },
  {
   "cell_type": "code",
   "execution_count": 7,
   "metadata": {},
   "outputs": [],
   "source": [
    "# First we login as the trino user, so that the user is known to\n",
    "# Lakekeeper.\n",
    "\n",
    "for client_id, client_secret in [\n",
    "    (\"trino\", \"AK48QgaKsqdEpP9PomRJw7l2T7qWGHdZ\"),\n",
    "    (\"starrocks\", \"X5IWbfDJBTcU1F3PGZWgxDJwLyuFQmSf\"),\n",
    "]:\n",
    "    response = requests.post(\n",
    "        url=KEYCLOAK_TOKEN_URL,\n",
    "        data={\n",
    "            \"grant_type\": \"client_credentials\",\n",
    "            \"client_id\": client_id,\n",
    "            \"client_secret\": client_secret,\n",
    "            \"scope\": \"lakekeeper\",\n",
    "        },\n",
    "        headers={\"Content-type\": \"application/x-www-form-urlencoded\"},\n",
    "    )\n",
    "    response.raise_for_status()\n",
    "    access_token_client = response.json()[\"access_token\"]\n",
    "\n",
    "    response = requests.post(\n",
    "        url=f\"{MANAGEMENT_URL}/v1/user\",\n",
    "        headers={\"Authorization\": f\"Bearer {access_token_client}\"},\n",
    "        json={\"update-if-exists\": True},\n",
    "    )\n",
    "    response.raise_for_status()"
   ]
  },
  {
   "cell_type": "code",
   "execution_count": 8,
   "metadata": {
    "scrolled": true
   },
   "outputs": [
    {
     "data": {
      "application/json": {
       "next-page-token": "MSYxNzQ4MzA1OTYxOTkxNzk5Jm9pZGN-NzUxNWJlNGItY2U1Yi00MzcxLWFiMzEtZjQwYjk3Zjc0ZWM2",
       "users": [
        {
         "created-at": "2025-05-27T00:32:23.851082Z",
         "email": null,
         "id": "oidc~9410d0bf-4487-4177-a34f-af364cac0a59",
         "last-updated-with": "update-endpoint",
         "name": "service-account-spark",
         "updated-at": null,
         "user-type": "application"
        },
        {
         "created-at": "2025-05-27T00:32:35.072973Z",
         "email": "peter@example.com",
         "id": "oidc~cfb55bf6-fcbb-4a1e-bfec-30c6649b52f8",
         "last-updated-with": "create-endpoint",
         "name": "Peter Cold",
         "updated-at": null,
         "user-type": "human"
        },
        {
         "created-at": "2025-05-27T00:32:41.974578Z",
         "email": null,
         "id": "oidc~94eb1d88-7854-43a0-b517-a75f92c533a5",
         "last-updated-with": "create-endpoint",
         "name": "service-account-trino",
         "updated-at": null,
         "user-type": "application"
        },
        {
         "created-at": "2025-05-27T00:32:41.991799Z",
         "email": null,
         "id": "oidc~7515be4b-ce5b-4371-ab31-f40b97f74ec6",
         "last-updated-with": "create-endpoint",
         "name": "service-account-starrocks",
         "updated-at": null,
         "user-type": "application"
        }
       ]
      },
      "text/plain": [
       "<IPython.core.display.JSON object>"
      ]
     },
     "execution_count": 8,
     "metadata": {
      "application/json": {
       "expanded": false,
       "root": "root"
      }
     },
     "output_type": "execute_result"
    }
   ],
   "source": [
    "# Users will show up in the /v1/user endpoint after the first login via the UI\n",
    "# or the first call to the /catalog/v1/config endpoint.\n",
    "response = requests.get(\n",
    "    url=f\"{MANAGEMENT_URL}/v1/user\",\n",
    "    headers={\"Authorization\": f\"Bearer {access_token}\"},\n",
    ")\n",
    "response.raise_for_status()\n",
    "JSON(response.json())"
   ]
  },
  {
   "cell_type": "code",
   "execution_count": 9,
   "metadata": {},
   "outputs": [],
   "source": [
    "response = requests.post(\n",
    "    url=f\"{MANAGEMENT_URL}/v1/permissions/project/assignments\",\n",
    "    headers={\"Authorization\": f\"Bearer {access_token}\"},\n",
    "    json={\n",
    "        \"writes\": [\n",
    "            {\n",
    "                \"type\": \"project_admin\",\n",
    "                \"user\": \"oidc~94eb1d88-7854-43a0-b517-a75f92c533a5\",\n",
    "            },\n",
    "            {\n",
    "                \"type\": \"project_admin\",\n",
    "                \"user\": \"oidc~7515be4b-ce5b-4371-ab31-f40b97f74ec6\",\n",
    "            },\n",
    "        ]\n",
    "    },\n",
    ")\n",
    "response.raise_for_status()"
   ]
  },
  {
   "cell_type": "markdown",
   "metadata": {},
   "source": [
    "## 4. Validate Bootstrap"
   ]
  },
  {
   "cell_type": "code",
   "execution_count": 10,
   "metadata": {},
   "outputs": [
    {
     "data": {
      "application/json": {
       "authz-backend": "openfga",
       "aws-system-identities-enabled": false,
       "azure-system-identities-enabled": false,
       "bootstrapped": true,
       "default-project-id": "00000000-0000-0000-0000-000000000000",
       "gcp-system-identities-enabled": false,
       "server-id": "00000000-0000-0000-0000-000000000000",
       "version": "0.8.5"
      },
      "text/plain": [
       "<IPython.core.display.JSON object>"
      ]
     },
     "execution_count": 10,
     "metadata": {
      "application/json": {
       "expanded": false,
       "root": "root"
      }
     },
     "output_type": "execute_result"
    }
   ],
   "source": [
    "# The server is now bootstrapped:\n",
    "response = requests.get(\n",
    "    url=f\"{MANAGEMENT_URL}/v1/info\",\n",
    "    headers={\"Authorization\": f\"Bearer {access_token}\"},\n",
    ")\n",
    "response.raise_for_status()\n",
    "JSON(response.json())"
   ]
  },
  {
   "cell_type": "code",
   "execution_count": 11,
   "metadata": {},
   "outputs": [
    {
     "data": {
      "application/json": {
       "next-page-token": "MSYxNzQ4MzA1OTYxOTkxNzk5Jm9pZGN-NzUxNWJlNGItY2U1Yi00MzcxLWFiMzEtZjQwYjk3Zjc0ZWM2",
       "users": [
        {
         "created-at": "2025-05-27T00:32:23.851082Z",
         "email": null,
         "id": "oidc~9410d0bf-4487-4177-a34f-af364cac0a59",
         "last-updated-with": "update-endpoint",
         "name": "service-account-spark",
         "updated-at": null,
         "user-type": "application"
        },
        {
         "created-at": "2025-05-27T00:32:35.072973Z",
         "email": "peter@example.com",
         "id": "oidc~cfb55bf6-fcbb-4a1e-bfec-30c6649b52f8",
         "last-updated-with": "create-endpoint",
         "name": "Peter Cold",
         "updated-at": null,
         "user-type": "human"
        },
        {
         "created-at": "2025-05-27T00:32:41.974578Z",
         "email": null,
         "id": "oidc~94eb1d88-7854-43a0-b517-a75f92c533a5",
         "last-updated-with": "create-endpoint",
         "name": "service-account-trino",
         "updated-at": null,
         "user-type": "application"
        },
        {
         "created-at": "2025-05-27T00:32:41.991799Z",
         "email": null,
         "id": "oidc~7515be4b-ce5b-4371-ab31-f40b97f74ec6",
         "last-updated-with": "create-endpoint",
         "name": "service-account-starrocks",
         "updated-at": null,
         "user-type": "application"
        }
       ]
      },
      "text/plain": [
       "<IPython.core.display.JSON object>"
      ]
     },
     "execution_count": 11,
     "metadata": {
      "application/json": {
       "expanded": false,
       "root": "root"
      }
     },
     "output_type": "execute_result"
    }
   ],
   "source": [
    "# An initial user was created\n",
    "response = requests.get(\n",
    "    url=f\"{MANAGEMENT_URL}/v1/user\",\n",
    "    headers={\"Authorization\": f\"Bearer {access_token}\"},\n",
    ")\n",
    "response.raise_for_status()\n",
    "JSON(response.json())"
   ]
  },
  {
   "cell_type": "code",
   "execution_count": 12,
   "metadata": {},
   "outputs": [
    {
     "data": {
      "application/json": {
       "assignments": [
        {
         "type": "admin",
         "user": "oidc~9410d0bf-4487-4177-a34f-af364cac0a59"
        },
        {
         "type": "admin",
         "user": "oidc~cfb55bf6-fcbb-4a1e-bfec-30c6649b52f8"
        }
       ]
      },
      "text/plain": [
       "<IPython.core.display.JSON object>"
      ]
     },
     "execution_count": 12,
     "metadata": {
      "application/json": {
       "expanded": false,
       "root": "root"
      }
     },
     "output_type": "execute_result"
    }
   ],
   "source": [
    "# The \"admin\" role has been assigned:\n",
    "response = requests.get(\n",
    "    url=f\"{MANAGEMENT_URL}/v1/permissions/server/assignments\",\n",
    "    headers={\"Authorization\": f\"Bearer {access_token}\"},\n",
    ")\n",
    "response.raise_for_status()\n",
    "user_id = response.json()[\"assignments\"][0][\"user\"]\n",
    "JSON(response.json())"
   ]
  },
  {
   "cell_type": "code",
   "execution_count": 13,
   "metadata": {},
   "outputs": [
    {
     "data": {
      "application/json": {
       "allowed-actions": [
        "create_project",
        "update_users",
        "delete_users",
        "list_users",
        "grant_admin",
        "provision_users",
        "read_assignments"
       ]
      },
      "text/plain": [
       "<IPython.core.display.JSON object>"
      ]
     },
     "execution_count": 13,
     "metadata": {
      "application/json": {
       "expanded": false,
       "root": "root"
      }
     },
     "output_type": "execute_result"
    }
   ],
   "source": [
    "# This user is the global admin, which has all access rights to the server:\n",
    "response = requests.get(\n",
    "    url=f\"{MANAGEMENT_URL}/v1/permissions/server/access\",\n",
    "    headers={\"Authorization\": f\"Bearer {access_token}\"},\n",
    ")\n",
    "response.raise_for_status()\n",
    "JSON(response.json())"
   ]
  },
  {
   "cell_type": "code",
   "execution_count": 14,
   "metadata": {},
   "outputs": [
    {
     "data": {
      "application/json": {
       "created-at": "2025-05-27T00:32:23.851082Z",
       "email": null,
       "id": "oidc~9410d0bf-4487-4177-a34f-af364cac0a59",
       "last-updated-with": "update-endpoint",
       "name": "service-account-spark",
       "updated-at": null,
       "user-type": "application"
      },
      "text/plain": [
       "<IPython.core.display.JSON object>"
      ]
     },
     "execution_count": 14,
     "metadata": {
      "application/json": {
       "expanded": false,
       "root": "root"
      }
     },
     "output_type": "execute_result"
    }
   ],
   "source": [
    "# Lets see who this user is:\n",
    "response = requests.get(\n",
    "    url=f\"{MANAGEMENT_URL}/v1/user/{user_id}\",\n",
    "    headers={\"Authorization\": f\"Bearer {access_token}\"},\n",
    ")\n",
    "response.raise_for_status()\n",
    "JSON(response.json())"
   ]
  },
  {
   "cell_type": "code",
   "execution_count": null,
   "metadata": {},
   "outputs": [],
   "source": []
  },
  {
   "cell_type": "code",
   "execution_count": null,
   "metadata": {},
   "outputs": [],
   "source": []
  }
 ],
 "metadata": {
  "kernelspec": {
   "display_name": "Python 3 (ipykernel)",
   "language": "python",
   "name": "python3"
  },
  "language_info": {
   "codemirror_mode": {
    "name": "ipython",
    "version": 3
   },
   "file_extension": ".py",
   "mimetype": "text/x-python",
   "name": "python",
   "nbconvert_exporter": "python",
   "pygments_lexer": "ipython3",
   "version": "3.11.10"
  }
 },
 "nbformat": 4,
 "nbformat_minor": 4
}
