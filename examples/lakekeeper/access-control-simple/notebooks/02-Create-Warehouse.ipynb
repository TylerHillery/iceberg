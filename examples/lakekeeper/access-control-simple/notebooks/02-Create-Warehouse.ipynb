{
 "cells": [
  {
   "cell_type": "code",
   "execution_count": null,
   "metadata": {},
   "outputs": [],
   "source": [
    "!pip install -q pyjwt"
   ]
  },
  {
   "cell_type": "code",
   "execution_count": 1,
   "metadata": {},
   "outputs": [],
   "source": [
    "import jwt\n",
    "import requests\n",
    "from IPython.display import JSON\n",
    "\n",
    "CATALOG_URL = \"http://server:8181/catalog\"\n",
    "MANAGEMENT_URL = \"http://server:8181/management\"\n",
    "KEYCLOAK_TOKEN_URL = \"http://keycloak:8080/realms/iceberg/protocol/openid-connect/token\""
   ]
  },
  {
   "cell_type": "markdown",
   "metadata": {},
   "source": [
    "# Sign in"
   ]
  },
  {
   "cell_type": "code",
   "execution_count": 2,
   "metadata": {},
   "outputs": [
    {
     "data": {
      "application/json": {
       "acr": "1",
       "allowed-origins": [
        "/*"
       ],
       "aud": [
        "lakekeeper",
        "account"
       ],
       "azp": "spark",
       "clientAddress": "192.168.97.10",
       "clientHost": "192.168.97.10",
       "client_id": "spark",
       "email_verified": false,
       "exp": 1748309570,
       "iat": 1748305970,
       "iss": "http://keycloak:8080/realms/iceberg",
       "jti": "f7084dd7-384f-4970-9b52-26ca56d774ab",
       "preferred_username": "service-account-spark",
       "realm_access": {
        "roles": [
         "offline_access",
         "uma_authorization",
         "default-roles-iceberg"
        ]
       },
       "resource_access": {
        "account": {
         "roles": [
          "manage-account",
          "manage-account-links",
          "view-profile"
         ]
        }
       },
       "scope": "email profile",
       "sub": "9410d0bf-4487-4177-a34f-af364cac0a59",
       "typ": "Bearer"
      },
      "text/plain": [
       "<IPython.core.display.JSON object>"
      ]
     },
     "execution_count": 2,
     "metadata": {
      "application/json": {
       "expanded": false,
       "root": "root"
      }
     },
     "output_type": "execute_result"
    }
   ],
   "source": [
    "# Login to Keycloak\n",
    "CLIENT_ID = \"spark\"\n",
    "CLIENT_SECRET = \"2OR3eRvYfSZzzZ16MlPd95jhLnOaLM52\"\n",
    "\n",
    "response = requests.post(\n",
    "    url=KEYCLOAK_TOKEN_URL,\n",
    "    data={\n",
    "        \"grant_type\": \"client_credentials\",\n",
    "        \"client_id\": CLIENT_ID,\n",
    "        \"client_secret\": CLIENT_SECRET,\n",
    "        \"scope\": \"lakekeeper\",\n",
    "    },\n",
    "    headers={\"Content-type\": \"application/x-www-form-urlencoded\"},\n",
    ")\n",
    "response.raise_for_status()\n",
    "access_token = response.json()[\"access_token\"]\n",
    "\n",
    "# Lets inspect the token we got to see that our application name is available:\n",
    "JSON(jwt.decode(access_token, options={\"verify_signature\": False}))"
   ]
  },
  {
   "cell_type": "markdown",
   "metadata": {},
   "source": [
    "# Creating a Warehouse"
   ]
  },
  {
   "cell_type": "code",
   "execution_count": 3,
   "metadata": {},
   "outputs": [
    {
     "data": {
      "application/json": {
       "warehouse-id": "1f6775f4-3a92-11f0-9489-7f6a31a315c3"
      },
      "text/plain": [
       "<IPython.core.display.JSON object>"
      ]
     },
     "execution_count": 3,
     "metadata": {
      "application/json": {
       "expanded": false,
       "root": "root"
      }
     },
     "output_type": "execute_result"
    }
   ],
   "source": [
    "response = requests.post(\n",
    "    url=f\"{MANAGEMENT_URL}/v1/warehouse\",\n",
    "    headers={\"Authorization\": f\"Bearer {access_token}\"},\n",
    "    json={\n",
    "        \"warehouse-name\": \"demo\",\n",
    "        \"storage-profile\": {\n",
    "            \"type\": \"s3\",\n",
    "            \"bucket\": \"examples\",\n",
    "            \"key-prefix\": \"initial-warehouse\",\n",
    "            \"endpoint\": \"http://minio:9000\",\n",
    "            \"region\": \"local-01\",\n",
    "            \"path-style-access\": True,\n",
    "            \"flavor\": \"minio\",\n",
    "            \"sts-enabled\": True,\n",
    "        },\n",
    "        \"storage-credential\": {\n",
    "            \"type\": \"s3\",\n",
    "            \"credential-type\": \"access-key\",\n",
    "            \"aws-access-key-id\": \"minio-root-user\",\n",
    "            \"aws-secret-access-key\": \"minio-root-password\",\n",
    "        },\n",
    "    },\n",
    ")\n",
    "response.raise_for_status()\n",
    "JSON(response.json())"
   ]
  },
  {
   "cell_type": "code",
   "execution_count": null,
   "metadata": {},
   "outputs": [],
   "source": []
  },
  {
   "cell_type": "code",
   "execution_count": null,
   "metadata": {},
   "outputs": [],
   "source": []
  }
 ],
 "metadata": {
  "kernelspec": {
   "display_name": "Python 3 (ipykernel)",
   "language": "python",
   "name": "python3"
  },
  "language_info": {
   "codemirror_mode": {
    "name": "ipython",
    "version": 3
   },
   "file_extension": ".py",
   "mimetype": "text/x-python",
   "name": "python",
   "nbconvert_exporter": "python",
   "pygments_lexer": "ipython3",
   "version": "3.11.10"
  }
 },
 "nbformat": 4,
 "nbformat_minor": 4
}
